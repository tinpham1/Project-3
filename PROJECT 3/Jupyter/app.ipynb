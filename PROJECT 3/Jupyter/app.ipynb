{
 "cells": [
  {
   "cell_type": "code",
   "execution_count": 29,
   "metadata": {},
   "outputs": [],
   "source": [
    "from flask import Flask, jsonify, render_template\n",
    "from flask_cors import CORS\n",
    "import pandas as pd\n",
    "import psycopg2\n",
    "from psycopg2 import pool\n",
    "import os\n",
    "from dotenv import load_dotenv\n",
    "from pathlib import Path\n",
    "from contextlib import contextmanager"
   ]
  },
  {
   "cell_type": "code",
   "execution_count": 30,
   "metadata": {},
   "outputs": [
    {
     "data": {
      "text/plain": [
       "True"
      ]
     },
     "execution_count": 30,
     "metadata": {},
     "output_type": "execute_result"
    }
   ],
   "source": [
    "# Load environment variables\n",
    "load_dotenv()"
   ]
  },
  {
   "cell_type": "code",
   "execution_count": 31,
   "metadata": {},
   "outputs": [
    {
     "data": {
      "text/plain": [
       "<flask_cors.extension.CORS at 0x24f83f61220>"
      ]
     },
     "execution_count": 31,
     "metadata": {},
     "output_type": "execute_result"
    }
   ],
   "source": [
    "app = Flask(__name__)\n",
    "CORS(app)"
   ]
  },
  {
   "cell_type": "code",
   "execution_count": 32,
   "metadata": {},
   "outputs": [],
   "source": [
    "# Connection pool\n",
    "db_pool = None"
   ]
  },
  {
   "cell_type": "code",
   "execution_count": 33,
   "metadata": {},
   "outputs": [],
   "source": [
    "def init_db_pool():\n",
    "    global db_pool\n",
    "    if db_pool is None:\n",
    "        db_pool = pool.SimpleConnectionPool(1, 10, dsn=DATABASE_URL)\n",
    "\n",
    "def get_db_connection():\n",
    "    if db_pool is None:\n",
    "        init_db_pool()\n",
    "    return db_pool.getconn()\n",
    "\n",
    "@contextmanager\n",
    "def get_conn_cursor():\n",
    "    conn = get_db_connection()\n",
    "    try:\n",
    "        yield conn, conn.cursor()\n",
    "    finally:\n",
    "        conn.commit()\n",
    "        conn.close()"
   ]
  },
  {
   "cell_type": "code",
   "execution_count": 34,
   "metadata": {},
   "outputs": [],
   "source": [
    "def create_launches_table():\n",
    "    create_query = \"\"\"\n",
    "    CREATE TABLE IF NOT EXISTS launches (\n",
    "        id SERIAL PRIMARY KEY,\n",
    "        mission_name TEXT,\n",
    "        launch_date TEXT,\n",
    "        launch_year INT,\n",
    "        success BOOLEAN,\n",
    "        failure_reason TEXT,\n",
    "        agency TEXT,\n",
    "        payload_mass_kg FLOAT,\n",
    "        source_id TEXT UNIQUE,\n",
    "        company TEXT,\n",
    "        location TEXT,\n",
    "        date DATE,\n",
    "        time TIME,\n",
    "        rocket TEXT,\n",
    "        mission TEXT,\n",
    "        rocket_status TEXT,\n",
    "        price TEXT,\n",
    "        mission_status TEXT\n",
    "    );\n",
    "    \"\"\"\n",
    "    with get_conn_cursor() as (_, cur):\n",
    "        cur.execute(create_query)\n",
    "\n",
    "def load_csv_to_postgres():\n",
    "    print(\"📥 Loading CSV into PostgreSQL...\")\n",
    "    csv_path = Path(\"launch_data.csv\")  # Use same directory as app.py\n",
    "    if not csv_path.exists():\n",
    "        print(f\"❌ CSV not found at {csv_path}\")\n",
    "        return"
   ]
  },
  {
   "cell_type": "code",
   "execution_count": 35,
   "metadata": {},
   "outputs": [],
   "source": [
    "from pathlib import Path\n",
    "\n",
    "# Define the path to the CSV file\n",
    "csv_path = Path(\"launch_data.csv\")\n",
    "\n",
    "# Read the CSV file into a DataFrame\n",
    "df = pd.read_csv(r\"C:\\Users\\Antho\\OneDrive\\Desktop\\PROJECT 3\\launch_data.csv\")"
   ]
  },
  {
   "cell_type": "code",
   "execution_count": 36,
   "metadata": {},
   "outputs": [],
   "source": [
    "# Rename columns to match DB\n",
    "df.rename(columns={\n",
    "        \"Mission\": \"mission_name\",\n",
    "        \"Date\": \"launch_date\",\n",
    "        \"Company\": \"agency\",\n",
    "        \"Rocket\": \"rocket\",\n",
    "        \"RocketStatus\": \"rocket_status\",\n",
    "        \"Location\": \"location\",\n",
    "        \"MissionStatus\": \"mission_status\",\n",
    "        \"Price\": \"price\"\n",
    "    }, inplace=True)\n",
    "\n",
    "    # Derive extra fields\n",
    "df[\"launch_year\"] = pd.to_datetime(df[\"launch_date\"], errors=\"coerce\").dt.year\n",
    "df[\"success\"] = df[\"mission_status\"].str.lower().str.contains(\"success\", na=False)\n",
    "df[\"failure_reason\"] = df[\"mission_status\"].where(~df[\"success\"], None)\n",
    "df[\"payload_mass_kg\"] = 1000\n",
    "df[\"source_id\"] = df[\"mission_name\"].fillna(\"Unknown\") + \"_\" + df[\"launch_date\"].fillna(\"\")\n",
    "\n",
    "    # Fill missing optional fields if needed\n",
    "for col in [\"company\", \"date\", \"time\"]:\n",
    "        if col not in df.columns:\n",
    "            df[col] = None\n"
   ]
  },
  {
   "cell_type": "code",
   "execution_count": 28,
   "metadata": {},
   "outputs": [],
   "source": [
    "@app.route(\"/\")\n",
    "def dashboard():\n",
    "    return render_template(\"index.html\")\n",
    "\n",
    "@app.route(\"/api/launches\")\n",
    "def api_get_launches():\n",
    "    with get_conn_cursor() as (_, cur):\n",
    "        cur.execute(\"SELECT * FROM launches;\")\n",
    "        columns = [desc[0] for desc in cur.description]\n",
    "        data = [dict(zip(columns, row)) for row in cur.fetchall()]\n",
    "    return jsonify(data)"
   ]
  },
  {
   "cell_type": "code",
   "execution_count": null,
   "metadata": {},
   "outputs": [],
   "source": [
    "def initialize_app():\n",
    "    create_launches_table()\n",
    "    load_csv_to_postgres()"
   ]
  },
  {
   "cell_type": "code",
   "execution_count": null,
   "metadata": {},
   "outputs": [],
   "source": [
    "if __name__ == \"__main__\":\n",
    "    initialize_app()\n",
    "    app.run(debug=True)\n"
   ]
  },
  {
   "cell_type": "code",
   "execution_count": null,
   "metadata": {},
   "outputs": [],
   "source": []
  },
  {
   "cell_type": "code",
   "execution_count": null,
   "metadata": {},
   "outputs": [],
   "source": []
  },
  {
   "cell_type": "markdown",
   "metadata": {},
   "source": []
  },
  {
   "cell_type": "code",
   "execution_count": null,
   "metadata": {},
   "outputs": [],
   "source": []
  },
  {
   "cell_type": "code",
   "execution_count": null,
   "metadata": {},
   "outputs": [],
   "source": []
  },
  {
   "cell_type": "code",
   "execution_count": null,
   "metadata": {},
   "outputs": [],
   "source": []
  },
  {
   "cell_type": "code",
   "execution_count": null,
   "metadata": {},
   "outputs": [],
   "source": []
  },
  {
   "cell_type": "code",
   "execution_count": null,
   "metadata": {},
   "outputs": [],
   "source": []
  },
  {
   "cell_type": "code",
   "execution_count": null,
   "metadata": {},
   "outputs": [],
   "source": []
  },
  {
   "cell_type": "code",
   "execution_count": null,
   "metadata": {},
   "outputs": [],
   "source": []
  },
  {
   "cell_type": "code",
   "execution_count": null,
   "metadata": {},
   "outputs": [],
   "source": []
  },
  {
   "cell_type": "code",
   "execution_count": null,
   "metadata": {},
   "outputs": [],
   "source": []
  },
  {
   "cell_type": "code",
   "execution_count": null,
   "metadata": {},
   "outputs": [],
   "source": []
  },
  {
   "cell_type": "code",
   "execution_count": null,
   "metadata": {},
   "outputs": [],
   "source": []
  },
  {
   "cell_type": "code",
   "execution_count": null,
   "metadata": {},
   "outputs": [],
   "source": []
  },
  {
   "cell_type": "code",
   "execution_count": null,
   "metadata": {},
   "outputs": [],
   "source": []
  },
  {
   "cell_type": "code",
   "execution_count": null,
   "metadata": {},
   "outputs": [],
   "source": []
  },
  {
   "cell_type": "code",
   "execution_count": null,
   "metadata": {},
   "outputs": [],
   "source": []
  },
  {
   "cell_type": "code",
   "execution_count": null,
   "metadata": {},
   "outputs": [],
   "source": []
  },
  {
   "cell_type": "code",
   "execution_count": null,
   "metadata": {},
   "outputs": [],
   "source": []
  },
  {
   "cell_type": "code",
   "execution_count": null,
   "metadata": {},
   "outputs": [],
   "source": []
  },
  {
   "cell_type": "markdown",
   "metadata": {},
   "source": []
  },
  {
   "cell_type": "code",
   "execution_count": null,
   "metadata": {},
   "outputs": [],
   "source": []
  }
 ],
 "metadata": {
  "kernelspec": {
   "display_name": "base",
   "language": "python",
   "name": "python3"
  },
  "language_info": {
   "codemirror_mode": {
    "name": "ipython",
    "version": 3
   },
   "file_extension": ".py",
   "mimetype": "text/x-python",
   "name": "python",
   "nbconvert_exporter": "python",
   "pygments_lexer": "ipython3",
   "version": "3.12.7"
  }
 },
 "nbformat": 4,
 "nbformat_minor": 2
}
